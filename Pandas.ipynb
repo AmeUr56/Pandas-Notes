{
 "cells": [
  {
   "cell_type": "markdown",
   "metadata": {},
   "source": [
    "# Everything in Pandas"
   ]
  },
  {
   "cell_type": "markdown",
   "metadata": {},
   "source": [
    "### **Import It**"
   ]
  },
  {
   "cell_type": "code",
   "execution_count": 1,
   "metadata": {},
   "outputs": [],
   "source": [
    "import pandas as pd"
   ]
  },
  {
   "cell_type": "markdown",
   "metadata": {},
   "source": [
    "### **Create DataFrame**"
   ]
  },
  {
   "cell_type": "code",
   "execution_count": 4,
   "metadata": {},
   "outputs": [
    {
     "data": {
      "text/html": [
       "<div>\n",
       "<style scoped>\n",
       "    .dataframe tbody tr th:only-of-type {\n",
       "        vertical-align: middle;\n",
       "    }\n",
       "\n",
       "    .dataframe tbody tr th {\n",
       "        vertical-align: top;\n",
       "    }\n",
       "\n",
       "    .dataframe thead th {\n",
       "        text-align: right;\n",
       "    }\n",
       "</style>\n",
       "<table border=\"1\" class=\"dataframe\">\n",
       "  <thead>\n",
       "    <tr style=\"text-align: right;\">\n",
       "      <th></th>\n",
       "      <th>Bob</th>\n",
       "      <th>Sue</th>\n",
       "    </tr>\n",
       "  </thead>\n",
       "  <tbody>\n",
       "    <tr>\n",
       "      <th>Product A</th>\n",
       "      <td>I liked it.</td>\n",
       "      <td>Pretty good.</td>\n",
       "    </tr>\n",
       "    <tr>\n",
       "      <th>Product B</th>\n",
       "      <td>It was awful.</td>\n",
       "      <td>Bland.</td>\n",
       "    </tr>\n",
       "  </tbody>\n",
       "</table>\n",
       "</div>"
      ],
      "text/plain": [
       "                     Bob           Sue\n",
       "Product A    I liked it.  Pretty good.\n",
       "Product B  It was awful.        Bland."
      ]
     },
     "execution_count": 4,
     "metadata": {},
     "output_type": "execute_result"
    }
   ],
   "source": [
    "pd.DataFrame({'Bob': ['I liked it.', 'It was awful.'], 'Sue': ['Pretty good.', 'Bland.']},\n",
    "             index=['Product A', 'Product B'])"
   ]
  },
  {
   "cell_type": "code",
   "execution_count": null,
   "metadata": {},
   "outputs": [],
   "source": [
    "myarray = np.array([[6,9,8,5,4,2],[0,2,5,6,3,9],\n",
    "[8,5,4,1,2,3],[6,9,8,5,4,2],\n",
    "[0,5,3,6,9,8],[8,7,4,5,2,3]])\n",
    "rownames = ['a', 'b','c','d','e','f']\n",
    "colnames = ['one', 'two', 'three','four','five','six']\n",
    "df = pd.DataFrame(myarray, index=rownames, columns=colnames)"
   ]
  },
  {
   "cell_type": "markdown",
   "metadata": {},
   "source": [
    "### **Create Series**"
   ]
  },
  {
   "cell_type": "code",
   "execution_count": 5,
   "metadata": {},
   "outputs": [
    {
     "data": {
      "text/plain": [
       "2015 Sales    30\n",
       "2016 Sales    35\n",
       "2017 Sales    40\n",
       "Name: Product A, dtype: int64"
      ]
     },
     "execution_count": 5,
     "metadata": {},
     "output_type": "execute_result"
    }
   ],
   "source": [
    "pd.Series([30, 35, 40], \n",
    "          index=['2015 Sales', '2016 Sales', '2017 Sales'], \n",
    "          name='Product A')"
   ]
  },
  {
   "cell_type": "markdown",
   "metadata": {},
   "source": [
    "### **Read CSV files**"
   ]
  },
  {
   "cell_type": "code",
   "execution_count": null,
   "metadata": {},
   "outputs": [],
   "source": [
    "wine_reviews = pd.read_csv(\"../input/wine-reviews/winemag-data-130k-v2.csv\"\n",
    "                           ,index_col=0)\n",
    "#index_col=0 --> let the first column 'index' of the dataset."
   ]
  },
  {
   "cell_type": "markdown",
   "metadata": {},
   "source": [
    "### **Shape of Dataset**"
   ]
  },
  {
   "cell_type": "code",
   "execution_count": null,
   "metadata": {},
   "outputs": [],
   "source": [
    "#(number of rows,number of columns)\n",
    "wine_reviews.shape"
   ]
  },
  {
   "cell_type": "markdown",
   "metadata": {},
   "source": [
    "## **df.T**\n",
    "transpose of the matrix of the dataframe"
   ]
  },
  {
   "cell_type": "code",
   "execution_count": null,
   "metadata": {},
   "outputs": [],
   "source": [
    "wine_reviews.T"
   ]
  },
  {
   "cell_type": "markdown",
   "metadata": {},
   "source": [
    "## **Stack**()\n",
    "is used to pivot the DataFrame from wide format to long format by \"stacking\" the specified level(s) of columns into a single level of columns. "
   ]
  },
  {
   "cell_type": "code",
   "execution_count": null,
   "metadata": {},
   "outputs": [],
   "source": [
    "wine_reviews.stack()"
   ]
  },
  {
   "cell_type": "markdown",
   "metadata": {},
   "source": [
    "## **Unstack**()\n",
    "is the reverse operation of .stack().<br>\n",
    "The .unstack() method in pandas is used to pivot a level of the multi-level index labels, essentially converting a multi-level index into columns. This operation is particularly useful when you have a hierarchical index (**MultiIndex**) and you want to transform the DataFrame for better visualization or analysis."
   ]
  },
  {
   "cell_type": "markdown",
   "metadata": {},
   "source": [
    "### **Size of Dataset**\n",
    "represents the total number of elements in the DataFrame, <br>\n",
    "number of rows * number of cols."
   ]
  },
  {
   "cell_type": "code",
   "execution_count": null,
   "metadata": {},
   "outputs": [],
   "source": [
    "wine_reviews.size"
   ]
  },
  {
   "cell_type": "markdown",
   "metadata": {},
   "source": [
    "### **Values of Dataset**\n",
    "Gives you the actual data values in the 'Series'."
   ]
  },
  {
   "cell_type": "code",
   "execution_count": null,
   "metadata": {},
   "outputs": [],
   "source": [
    "wine_reviews.country.values"
   ]
  },
  {
   "cell_type": "markdown",
   "metadata": {},
   "source": [
    "### **index of Dataset**\n",
    "This returns the row indices of the DataFrame."
   ]
  },
  {
   "cell_type": "code",
   "execution_count": null,
   "metadata": {},
   "outputs": [],
   "source": [
    "wine_reviews.index"
   ]
  },
  {
   "cell_type": "markdown",
   "metadata": {},
   "source": [
    "### **Columns of Dataset**\n",
    "This returns the column names (keys) of the DataFrame."
   ]
  },
  {
   "cell_type": "code",
   "execution_count": null,
   "metadata": {},
   "outputs": [],
   "source": [
    "wine_reviews.columns"
   ]
  },
  {
   "cell_type": "markdown",
   "metadata": {},
   "source": [
    "### **Axes of Dataset**\n",
    "write infos abotu rows and cols."
   ]
  },
  {
   "cell_type": "code",
   "execution_count": null,
   "metadata": {},
   "outputs": [],
   "source": [
    "wine_reviews.axes"
   ]
  },
  {
   "cell_type": "markdown",
   "metadata": {},
   "source": [
    "Row Axes:<br>\n",
    "RangeIndex(start=0, stop=3, step=1)<br>\n",
    "<br>\n",
    "Column Axes:<br>\n",
    "Index(['A', 'B', 'C'], dtype='object')<br>"
   ]
  },
  {
   "cell_type": "markdown",
   "metadata": {},
   "source": [
    "### **Rows of the DataFrame**\n",
    "default number of rows is 5."
   ]
  },
  {
   "cell_type": "code",
   "execution_count": null,
   "metadata": {},
   "outputs": [],
   "source": [
    "#examine first 50 rows from the dataset\n",
    "wine_reviews.head(50)\n"
   ]
  },
  {
   "cell_type": "code",
   "execution_count": null,
   "metadata": {},
   "outputs": [],
   "source": [
    "#examine last 50 rows from the dataset\n",
    "wine_reviews.tail(50)\n"
   ]
  },
  {
   "cell_type": "markdown",
   "metadata": {},
   "source": [
    "### **Get column from Dataset**"
   ]
  },
  {
   "cell_type": "code",
   "execution_count": null,
   "metadata": {},
   "outputs": [],
   "source": [
    "#points is a column from wine_reviews\n",
    "wine_reviews.points\n",
    "#or\n",
    "wine_reviews['points']"
   ]
  },
  {
   "cell_type": "markdown",
   "metadata": {},
   "source": [
    "## **Indexing** \n",
    "Both loc and iloc are row-first, column-second. \n",
    "This is the opposite of what we do in native Python,\n",
    "which is column-first, row-second.<br><br>\n",
    "**iloc** --> index-based selection.<br>\n",
    "**loc** --> Label-based selection.<br><br>\n",
    "**iloc** uses the Python stdlib indexing scheme, where the first element of the range is included and the last one excluded. So 0:10 will select entries 0,...,9. **loc**, meanwhile, indexes inclusively. So 0:10 will select entries 0,...,10.\n"
   ]
  },
  {
   "cell_type": "code",
   "execution_count": null,
   "metadata": {},
   "outputs": [],
   "source": [
    "#we want to get 'second' and and 'fifth' rows from first column which is 'area'\n",
    "wine_reviews.iloc[[1,4], 0]\n",
    "#or\n",
    "wine_reviews.loc[[1,4], 'area']\n"
   ]
  },
  {
   "cell_type": "markdown",
   "metadata": {},
   "source": [
    "### **Manipulating the index**"
   ]
  },
  {
   "cell_type": "code",
   "execution_count": null,
   "metadata": {},
   "outputs": [],
   "source": [
    "#title is column from wine_reviews Dataset\n",
    "wine_reviews.set_index(\"title\")"
   ]
  },
  {
   "cell_type": "markdown",
   "metadata": {},
   "source": [
    "### **Conditional selection**"
   ]
  },
  {
   "cell_type": "code",
   "execution_count": null,
   "metadata": {},
   "outputs": [],
   "source": [
    "#We can start by checking if each wine is Italian or not:\n",
    "wine_reviews.country == 'Italy'"
   ]
  },
  {
   "cell_type": "markdown",
   "metadata": {},
   "source": [
    "<span style=\"font-family: 'Consolas'; font-size: 16px;\">\n",
    "\n",
    "0          True<br>\n",
    "1         False<br>\n",
    "          ...  <br>\n",
    "129969     False<br>\n",
    "129970     False<br>\n",
    "Name: country, Length: 129971, dtype: bool<br></span>"
   ]
  },
  {
   "cell_type": "code",
   "execution_count": null,
   "metadata": {},
   "outputs": [],
   "source": [
    "#we want to select data if country is Italy and has points more than 90\n",
    "wine_reviews.loc[(wine_reviews.country == 'Italy') & (wine_reviews.points > 90)]"
   ]
  },
  {
   "cell_type": "code",
   "execution_count": null,
   "metadata": {},
   "outputs": [],
   "source": [
    "#we want to select data if country is Italy or France\n",
    "wine_reviews.loc[wine_reviews.country.isin(['Italy', 'France'])]"
   ]
  },
  {
   "cell_type": "code",
   "execution_count": null,
   "metadata": {},
   "outputs": [],
   "source": [
    "#we want to select data if price is not 'Null'\n",
    "wine_reviews.loc[wine_reviews.price.notnull()]\n",
    "#we want to select data if price is 'Null'\n",
    "wine_reviews.loc[wine_reviews.price.isnull()]"
   ]
  },
  {
   "cell_type": "code",
   "execution_count": null,
   "metadata": {},
   "outputs": [],
   "source": [
    "#or \n",
    "result = df.query('price < 0.5 and age > 30')"
   ]
  },
  {
   "cell_type": "markdown",
   "metadata": {},
   "source": [
    "## **Drop**"
   ]
  },
  {
   "cell_type": "markdown",
   "metadata": {},
   "source": [
    "Drop Multiple Rows or Columns:\n"
   ]
  },
  {
   "cell_type": "code",
   "execution_count": null,
   "metadata": {},
   "outputs": [],
   "source": [
    "df.drop(index=[1, 2], inplace=True)  # Remove rows with indices 1 and 2\n",
    "df.drop(columns=['col1', 'col2'], inplace=True)  # Remove columns 'col1' and 'col2'"
   ]
  },
  {
   "cell_type": "markdown",
   "metadata": {},
   "source": [
    "Drop Rows by Condition:"
   ]
  },
  {
   "cell_type": "code",
   "execution_count": null,
   "metadata": {},
   "outputs": [],
   "source": [
    "df.drop(df[df['column_name'] > 50].index, inplace=True)  # Remove rows based on a condition"
   ]
  },
  {
   "cell_type": "markdown",
   "metadata": {},
   "source": [
    "### **Assigning data**"
   ]
  },
  {
   "cell_type": "code",
   "execution_count": null,
   "metadata": {},
   "outputs": [],
   "source": [
    "wine_reviews['critic'] = 'everyone'\n",
    "wine_reviews['critic']"
   ]
  },
  {
   "cell_type": "markdown",
   "metadata": {},
   "source": [
    "<span style=\"font-family: 'Consolas'; font-size: 16px;\">\n",
    "0         everyone<br>\n",
    "1         everyone<br>\n",
    "            ...   <br>\n",
    "129969    everyone<br>\n",
    "129970    everyone<br>\n",
    "Name: critic, Length: 129971, dtype: object<br></span>"
   ]
  },
  {
   "cell_type": "code",
   "execution_count": null,
   "metadata": {},
   "outputs": [],
   "source": [
    "#Or with an iterable of values:\n",
    "wine_reviews['index_backwards'] = range(len(wine_reviews), 0, -1)\n"
   ]
  },
  {
   "cell_type": "markdown",
   "metadata": {},
   "source": [
    "<span style=\"font-family: 'Consolas'; font-size: 16px;\">\n",
    "0         129971<br>\n",
    "1         129970<br>\n",
    "           ...  <br>\n",
    "129969         2<br>\n",
    "129970         1<br>\n",
    "Name: index_backwards, Length: 129971, dtype: int64<br></span>"
   ]
  },
  {
   "cell_type": "markdown",
   "metadata": {},
   "source": [
    "### **Renaming**"
   ]
  },
  {
   "cell_type": "code",
   "execution_count": null,
   "metadata": {},
   "outputs": [],
   "source": [
    "#For Columns\n",
    "#changes points column to score\n",
    "wine_reviews.rename(columns={'points': 'score'})"
   ]
  },
  {
   "cell_type": "code",
   "execution_count": null,
   "metadata": {},
   "outputs": [],
   "source": [
    "#For Index\n",
    "wine_reviews.rename(index={0: 'firstEntry', 1: 'secondEntry'})"
   ]
  },
  {
   "cell_type": "code",
   "execution_count": null,
   "metadata": {},
   "outputs": [],
   "source": [
    "#For Column and row indexes\n",
    "wine_reviews.rename_axis(\"wines\", axis='rows').rename_axis(\"fields\", axis='columns')\n"
   ]
  },
  {
   "cell_type": "markdown",
   "metadata": {},
   "source": [
    "![ALT Text](C:/Users/User/Desktop/Programming/rows_and_columns_indexes.png)\n"
   ]
  },
  {
   "cell_type": "markdown",
   "metadata": {},
   "source": [
    "### **Combining**<br>\n",
    "**concat**(), **join**(), and **merge**()"
   ]
  },
  {
   "cell_type": "code",
   "execution_count": null,
   "metadata": {},
   "outputs": [],
   "source": [
    "#Concat()\n",
    "canadian_youtube = pd.read_csv(\"../input/youtube-new/CAvideos.csv\")\n",
    "british_youtube = pd.read_csv(\"../input/youtube-new/GBvideos.csv\")\n",
    "\n",
    "pd.concat([canadian_youtube, british_youtube])"
   ]
  },
  {
   "cell_type": "markdown",
   "metadata": {},
   "source": [
    "The **lsuffix** and **rsuffix** parameters are necessary here because the data has the same column names in both British and Canadian datasets. If this wasn't true (because, say, we'd renamed them beforehand) we wouldn't need them."
   ]
  },
  {
   "cell_type": "code",
   "execution_count": null,
   "metadata": {},
   "outputs": [],
   "source": [
    "#Join()\n",
    "left = canadian_youtube.set_index(['title', 'trending_date'])\n",
    "right = british_youtube.set_index(['title', 'trending_date'])\n",
    "\n",
    "left.join(right, lsuffix='_CAN', rsuffix='_UK')"
   ]
  },
  {
   "cell_type": "markdown",
   "metadata": {},
   "source": [
    "**Merge** is used to combine two DataFrames based on a common column or index. It's similar to SQL JOIN operations."
   ]
  },
  {
   "cell_type": "markdown",
   "metadata": {},
   "source": [
    "**How** --> <br>'inner' = Use the intersection of keys from both frames, similar to an SQL inner join.<br>\n",
    "'outer' = Use the union of keys from both frames, filling in missing values with NaN.<br>\n",
    "'left' = Use the keys from the left frame only.<br>\n",
    "'right' = Use the keys from the right frame only."
   ]
  },
  {
   "cell_type": "code",
   "execution_count": null,
   "metadata": {},
   "outputs": [],
   "source": [
    "#Merge()\n",
    "#if they share same column name\n",
    "result = pd.merge(df1, df2, on='EmployeeID',suffixes=('_df1', '_df2'),how = 'outer')\n",
    "#if not\n",
    "result = pd.merge(df2, df1, \n",
    "                  right_on=df2.columns[-1], \n",
    "                  left_on='age', \n",
    "                  suffixes=('_df1', '_df2'),how = 'inner')\n"
   ]
  },
  {
   "cell_type": "markdown",
   "metadata": {},
   "source": [
    "## **Summary functions**\n"
   ]
  },
  {
   "cell_type": "markdown",
   "metadata": {},
   "source": [
    "#### **describe()**<br>\n",
    "This method generates a high-level summary of the attributes of the given column. It is type-aware, meaning that its output changes based on the data type of the input."
   ]
  },
  {
   "cell_type": "code",
   "execution_count": null,
   "metadata": {},
   "outputs": [],
   "source": [
    "#For numerical Data"
   ]
  },
  {
   "cell_type": "markdown",
   "metadata": {},
   "source": [
    "<span style=\"font-family: 'Consolas'; font-size: 16px;\">\n",
    "\n",
    "count    129971.000000<br>\n",
    "mean         88.447138<br>\n",
    "             ...      <br>\n",
    "75%          91.000000<br>\n",
    "max         100.000000<br>\n",
    "Name: points, Length: 8, dtype: float64</spqn>"
   ]
  },
  {
   "cell_type": "code",
   "execution_count": null,
   "metadata": {},
   "outputs": [],
   "source": [
    "#For categorical Data"
   ]
  },
  {
   "cell_type": "markdown",
   "metadata": {},
   "source": [
    "<span style=\"font-family: 'Consolas'; font-size: 16px;\">\n",
    "count         103727<br>\n",
    "unique            19<br>\n",
    "top       Roger Voss<br>\n",
    "freq           25514<br>\n",
    "Name: taster_name, dtype: object\n",
    "</span>"
   ]
  },
  {
   "cell_type": "markdown",
   "metadata": {},
   "source": [
    "### **Info**()\n",
    "provides a concise summary of a DataFrame, including information about the **data types**, **non-null counts**, and **memory usage**. It is a <u>useful</u> method to quickly assess the structure and properties of a DataFrame. "
   ]
  },
  {
   "cell_type": "code",
   "execution_count": null,
   "metadata": {},
   "outputs": [],
   "source": [
    "wine_reviews.info()"
   ]
  },
  {
   "cell_type": "markdown",
   "metadata": {},
   "source": [
    "<span style=\"font-family: 'Consolas'; font-size: 16px;\">\n",
    "\n",
    "class 'pandas.core.frame.DataFrame'><br>\n",
    "Index: 9355 entries, Data DevOps Engineer to Business Data Analyst<<br>br>\n",
    "Data columns (total 12 columns):<br>\n",
    " \\#   Column              Non-Null Count  Dtype <br>\n",
    "---  ------              --------------  ----- <br>\n",
    " 0   work_year           9355 non-null   int64 <br>\n",
    " 1   job_title           9355 non-null   object<br>\n",
    " 2   job_category        9355 non-null   object<br>\n",
    " 3   salary_currency     9355 non-null   object<br>\n",
    " 4   salary              9355 non-null   int64 <br>\n",
    " 5   salary_in_usd       9355 non-null   int64 <br>\n",
    " 6   employee_residence  9355 non-null   object<br>\n",
    " 7   experience_level    9355 non-null   object<br>\n",
    " 8   employment_type     9355 non-null   object<br>\n",
    " 9   work_setting        9355 non-null   object<br>\n",
    " 10  company_location    9355 non-null   object<br>\n",
    " 11  company_size        9355 non-null   object<br>\n",
    "dtypes: int64(3), object(9)<br>\n",
    "memory usage: 950.1+ KB</span>"
   ]
  },
  {
   "cell_type": "markdown",
   "metadata": {},
   "source": [
    "#### **unique**()\n",
    "To see a list of unique values."
   ]
  },
  {
   "cell_type": "code",
   "execution_count": null,
   "metadata": {},
   "outputs": [],
   "source": [
    "wine_reviews.taster_name.unique()"
   ]
  },
  {
   "cell_type": "markdown",
   "metadata": {},
   "source": [
    "#### **value_counts**()\n",
    "To see a list of unique values and how often they occur in the dataset,"
   ]
  },
  {
   "cell_type": "code",
   "execution_count": null,
   "metadata": {},
   "outputs": [],
   "source": [
    "wine_reviews.taster_name.value_counts()"
   ]
  },
  {
   "cell_type": "markdown",
   "metadata": {},
   "source": [
    "#### **nunique**()\n",
    "returns the number of unique values in each column."
   ]
  },
  {
   "cell_type": "code",
   "execution_count": null,
   "metadata": {},
   "outputs": [],
   "source": [
    "wine_reviews.country.nunique()"
   ]
  },
  {
   "cell_type": "markdown",
   "metadata": {},
   "source": [
    "#### **mean**(), **median**(), **std**(), **min**(), **max**(), **sum**(),**prod**(),**corr**():\n",
    "These functions calculate the mean, median, standard deviation, minimum, maximum values,sum,product of all elements and corr respectively, for each column or Series."
   ]
  },
  {
   "cell_type": "code",
   "execution_count": null,
   "metadata": {},
   "outputs": [],
   "source": [
    "#Example:\n",
    "wine_reviews.work_year.mean()"
   ]
  },
  {
   "cell_type": "markdown",
   "metadata": {},
   "source": [
    "#### **count**()\n",
    "returns the number of non-null values in each column"
   ]
  },
  {
   "cell_type": "code",
   "execution_count": null,
   "metadata": {},
   "outputs": [],
   "source": [
    "wine_reviews.count()"
   ]
  },
  {
   "cell_type": "markdown",
   "metadata": {},
   "source": [
    "#### **values_count**()\n",
    "To see a list of unique values and how often they occur in the dataset."
   ]
  },
  {
   "cell_type": "code",
   "execution_count": null,
   "metadata": {},
   "outputs": [],
   "source": [
    "wine_reviews.country.value_counts()"
   ]
  },
  {
   "cell_type": "markdown",
   "metadata": {},
   "source": [
    "#### **agg**() or **aggregate**()\n",
    "Aggregate using one or more operations over specified axis.\n"
   ]
  },
  {
   "cell_type": "code",
   "execution_count": null,
   "metadata": {},
   "outputs": [],
   "source": [
    "aggregation_result = wine_reviews.aggregate({'Column1': 'mean', 'Column2': 'max'})\n",
    "#or\n",
    "aggregation_result = wine_reviews.agg(['max','sum','mean'])\n"
   ]
  },
  {
   "cell_type": "markdown",
   "metadata": {},
   "source": [
    "#### **sample**()\n",
    "Returns a random sample of items from an axis of the object.\n",
    "\n"
   ]
  },
  {
   "cell_type": "code",
   "execution_count": null,
   "metadata": {},
   "outputs": [],
   "source": [
    "random_sample = wine_reviews.sample(n=5)  # Get a random sample of 5 rows"
   ]
  },
  {
   "cell_type": "markdown",
   "metadata": {},
   "source": [
    "#### **dublicated**()\n",
    "Returns a boolean Series indicating duplicate rows."
   ]
  },
  {
   "cell_type": "code",
   "execution_count": null,
   "metadata": {},
   "outputs": [],
   "source": [
    "# Check for duplicated rows\n",
    "duplicated_rows = wine_reviews.duplicated()"
   ]
  },
  {
   "cell_type": "markdown",
   "metadata": {},
   "source": [
    "Example:<br>\n",
    "Original DataFrame:<br>\n",
    "      Name  Age  Salary<br>\n",
    "0    Alice   25   50000<br>\n",
    "1      Bob   30   60000<br>\n",
    "2  Charlie   22   45000<br>\n",
    "3    Alice   25   50000<br>\n",
    "4      Bob   30   60000<br>\n",
    "\n",
    "Duplicated Rows:<br>\n",
    "0    False<br>\n",
    "1    False<br>\n",
    "2    False<br>\n",
    "3     True<br>\n",
    "4     True<br>\n",
    "dtype: bool<br>"
   ]
  },
  {
   "cell_type": "markdown",
   "metadata": {},
   "source": [
    "#### **drop_duplicates**\n",
    " Returns a DataFrame with duplicate rows removed."
   ]
  },
  {
   "cell_type": "code",
   "execution_count": null,
   "metadata": {},
   "outputs": [],
   "source": [
    "wine_reviews.drop_duplicates(inplace=True)\n",
    "#or\n",
    "wine_reviews = wine_reviews.drop_dublicates(inplace = True)"
   ]
  },
  {
   "cell_type": "markdown",
   "metadata": {},
   "source": [
    "#### **nlargest**(),**nsmallest**()\n",
    "These methods return the first n largest or smallest values and their corresponding indices in a Series."
   ]
  },
  {
   "cell_type": "code",
   "execution_count": null,
   "metadata": {},
   "outputs": [],
   "source": [
    "s = pd.Series([10, 5, 8, 15, 20, 12, 7])\n",
    "\n",
    "# Get the 2 smallest values and their indices\n",
    "smallest_values = s.nsmallest(2)"
   ]
  },
  {
   "cell_type": "markdown",
   "metadata": {},
   "source": [
    "#### **idxmin**(),**idxmax**()\n",
    "returns the index of the first occurrence of the minimum,maximum values respectively in a Series or DataFrame."
   ]
  },
  {
   "cell_type": "markdown",
   "metadata": {},
   "source": [
    "axis = 1 -->  these methods return the index of the first occurrence of the maximum or minimum value along a specified axis"
   ]
  },
  {
   "cell_type": "markdown",
   "metadata": {},
   "source": [
    "skina = False --> By default, these methods skip NaN (missing) values. If skipna=False is specified, they will consider NaN as the minimum or maximum value, respectively."
   ]
  },
  {
   "cell_type": "code",
   "execution_count": null,
   "metadata": {},
   "outputs": [],
   "source": [
    "wine_reviews.idxmax(axis=1,skipna=False)"
   ]
  },
  {
   "cell_type": "markdown",
   "metadata": {},
   "source": [
    "## **Maps**"
   ]
  },
  {
   "cell_type": "markdown",
   "metadata": {},
   "source": [
    "Note that map() and apply() return new, transformed Series and DataFrames, respectively. They don't modify the original data they're called on. If we look at the first row of reviews, we can see that it still has its original points value."
   ]
  },
  {
   "cell_type": "markdown",
   "metadata": {},
   "source": [
    "### **map**()\n",
    "should expect a single value from the Series (a point value, in the above example), and return a transformed version of that value. map() returns a new Series where all the values have been transformed by your function."
   ]
  },
  {
   "cell_type": "code",
   "execution_count": null,
   "metadata": {},
   "outputs": [],
   "source": [
    "#Example:\n",
    "review_points_mean = wine_reviews.points.mean()\n",
    "wine_reviews.points = wine_reviews.points.map({'A': 'X', 'B': 'Y'})"
   ]
  },
  {
   "cell_type": "markdown",
   "metadata": {},
   "source": [
    "### **apply**()\n",
    "is the equivalent method if we want to transform a whole DataFrame by calling a custom method on each row.<br>\n",
    "If we had called reviews.apply() with axis='index', then instead of passing a function to transform each row, we would need to give a function to transform each column."
   ]
  },
  {
   "cell_type": "code",
   "execution_count": null,
   "metadata": {},
   "outputs": [],
   "source": [
    "#Example func\n",
    "def remean_points(row):\n",
    "    row.points = row.points - review_points_mean\n",
    "    return row\n",
    "\n",
    "wine_reviews.apply(remean_points, axis='columns')"
   ]
  },
  {
   "cell_type": "markdown",
   "metadata": {},
   "source": [
    "### **transform**()\n",
    " is specifically designed for group-wise transformations. It works well when you want to apply a function independently to each group and return a result with the same shape as the original DataFrame."
   ]
  },
  {
   "cell_type": "code",
   "execution_count": null,
   "metadata": {},
   "outputs": [],
   "source": [
    "wine_reviews['Normalized'] = wine_reviews.groupby('country')['price'].transform(lambda x: (x - x.mean()) / x.std())\n"
   ]
  },
  {
   "cell_type": "markdown",
   "metadata": {},
   "source": [
    "##### **Their Uses**:\n",
    "Use **transform** when you want to perform group-wise transformations and broadcast the results back to the original DataFrame.<br>\n",
    "Use **apply** when you need more flexibility and want to apply a function to each group, potentially with aggregation or more complex logic.<br>\n",
    "Use **map** when you want to map values element-wise based on a mapping dictionary or function."
   ]
  },
  {
   "cell_type": "markdown",
   "metadata": {},
   "source": [
    "## **groupby**()"
   ]
  },
  {
   "cell_type": "code",
   "execution_count": null,
   "metadata": {},
   "outputs": [],
   "source": [
    "wine_reviews.groupby(['country']).price.agg([len, min, max])"
   ]
  },
  {
   "cell_type": "markdown",
   "metadata": {},
   "source": [
    "### **reset_index**()\n",
    "to resert index."
   ]
  },
  {
   "cell_type": "code",
   "execution_count": null,
   "metadata": {},
   "outputs": [],
   "source": [
    "wine_reviews.reset_index()"
   ]
  },
  {
   "cell_type": "markdown",
   "metadata": {},
   "source": [
    "## **sort_values**()\n",
    "defaults to an ascending sort, where the lowest values go first. However, "
   ]
  },
  {
   "cell_type": "code",
   "execution_count": null,
   "metadata": {},
   "outputs": [],
   "source": [
    "wine_reviews.sort_values(by=['country', 'len'], ascending=False)"
   ]
  },
  {
   "cell_type": "markdown",
   "metadata": {},
   "source": [
    "### **sort_index**()\n",
    "to sort by index values."
   ]
  },
  {
   "cell_type": "code",
   "execution_count": null,
   "metadata": {},
   "outputs": [],
   "source": [
    "wine_reviews.sort_index()"
   ]
  },
  {
   "cell_type": "markdown",
   "metadata": {},
   "source": [
    "## **Filter**()\n",
    "is used for filtering data based on a specified condition. It can be applied to both rows and columns of a DataFrame, allowing you to selectively include or exclude elements."
   ]
  },
  {
   "cell_type": "code",
   "execution_count": null,
   "metadata": {},
   "outputs": [],
   "source": [
    "# Filtering columns where the column label contains the letter 'B'\n",
    "filtered_columns = df.filter(like='B', axis=1)"
   ]
  },
  {
   "cell_type": "code",
   "execution_count": null,
   "metadata": {},
   "outputs": [],
   "source": [
    "# Advanced filtering: Include columns where the sum is greater than 20\n",
    "filtered_advanced = df.filter(lambda x: x.sum() > 20, axis=1)"
   ]
  },
  {
   "cell_type": "markdown",
   "metadata": {},
   "source": [
    "## **Dtypes**\n",
    "The data type for a column in a DataFrame or a Series is known as the dtype."
   ]
  },
  {
   "cell_type": "code",
   "execution_count": null,
   "metadata": {},
   "outputs": [],
   "source": [
    "wine_reviews.price.dtype"
   ]
  },
  {
   "cell_type": "markdown",
   "metadata": {},
   "source": [
    "<p style='line-height: 1px'>dtype('float64')</p>\n"
   ]
  },
  {
   "cell_type": "markdown",
   "metadata": {},
   "source": [
    "#### **astype**()"
   ]
  },
  {
   "cell_type": "code",
   "execution_count": null,
   "metadata": {},
   "outputs": [],
   "source": [
    "wine_reviews.points.astype('float64')"
   ]
  },
  {
   "cell_type": "markdown",
   "metadata": {},
   "source": [
    "## **Missing data**\n",
    "Entries missing values are given the value NaN, short for \"Not a Number\""
   ]
  },
  {
   "cell_type": "markdown",
   "metadata": {},
   "source": [
    "#### **fillna**()\n",
    "provides a few different strategies for mitigating such data."
   ]
  },
  {
   "cell_type": "markdown",
   "metadata": {},
   "source": [
    "**method='ffill'** --> To replace missing values with the preceding (previous) non-missing value in a DataFrame."
   ]
  },
  {
   "cell_type": "markdown",
   "metadata": {},
   "source": [
    "**method='bfill'** --> To replace missing values with the next (following) non-missing value in a DataFrame."
   ]
  },
  {
   "cell_type": "code",
   "execution_count": null,
   "metadata": {},
   "outputs": [],
   "source": [
    "#fill Nan with Unknow in region_2 column\n",
    "wine_reviews.region_2.fillna(\"Unknown\")"
   ]
  },
  {
   "cell_type": "code",
   "execution_count": null,
   "metadata": {},
   "outputs": [],
   "source": [
    "wine_reviews.price.fillna(method = 'ffill')"
   ]
  }
 ],
 "metadata": {
  "kernelspec": {
   "display_name": "Python 3",
   "language": "python",
   "name": "python3"
  },
  "language_info": {
   "codemirror_mode": {
    "name": "ipython",
    "version": 3
   },
   "file_extension": ".py",
   "mimetype": "text/x-python",
   "name": "python",
   "nbconvert_exporter": "python",
   "pygments_lexer": "ipython3",
   "version": "3.11.3"
  }
 },
 "nbformat": 4,
 "nbformat_minor": 2
}
